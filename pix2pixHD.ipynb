{
  "nbformat": 4,
  "nbformat_minor": 0,
  "metadata": {
    "colab": {
      "name": "pix2pixHD.ipynb",
      "provenance": [],
      "collapsed_sections": [
        "XYdHf9--Tu7p",
        "uJaSt9YQUNyA"
      ],
      "toc_visible": true,
      "mount_file_id": "1z7aSIgqUliZG5fD4IkpB5WEEtVXh557C",
      "authorship_tag": "ABX9TyPoLzBuq4wbunHrzCBfRykr",
      "include_colab_link": true
    },
    "kernelspec": {
      "name": "python3",
      "display_name": "Python 3"
    },
    "accelerator": "GPU"
  },
  "cells": [
    {
      "cell_type": "markdown",
      "metadata": {
        "id": "view-in-github",
        "colab_type": "text"
      },
      "source": [
        "<a href=\"https://colab.research.google.com/github/eswahn/notebooks/blob/main/pix2pixHD.ipynb\" target=\"_parent\"><img src=\"https://colab.research.google.com/assets/colab-badge.svg\" alt=\"Open In Colab\"/></a>"
      ]
    },
    {
      "cell_type": "markdown",
      "metadata": {
        "id": "XYdHf9--Tu7p"
      },
      "source": [
        "# Install\r\n",
        "\r\n",
        "Learn more about pix2pixHD at\r\n",
        "https://github.com/NVIDIA/pix2pixHD"
      ]
    },
    {
      "cell_type": "code",
      "metadata": {
        "id": "f3PofuRIUdYm"
      },
      "source": [
        "%tensorflow_version 1.x\n",
        "!git clone https://github.com/NVIDIA/pix2pixHD\n",
        "!pip install dominate\n",
        "%cd pix2pixHD\n",
        "!nvidia-smi -L"
      ],
      "execution_count": null,
      "outputs": []
    },
    {
      "cell_type": "markdown",
      "metadata": {
        "id": "jWq7fdj9T4Ka"
      },
      "source": [
        "# Load dataset\r\n",
        "\r\n",
        "Mount Google drive if you want to access data and save results there.\r\n",
        "\r\n",
        "Place two subfolders in your dataset folder, `train_A` and `train_B`, with image files of the same name for each image pair."
      ]
    },
    {
      "cell_type": "code",
      "metadata": {
        "id": "R87ArfRN7rhC"
      },
      "source": [
        "dataset = \"your_dataset\" #@param {type:'string'} \n",
        "dataset_path = \"/content/drive/MyDrive/Data/your_dataset/\" #@param {type:'string'} \n",
        "output_dir = '/content/drive/MyDrive/Results/pix2pixHD/' #@param {type:'string'} \n",
        "\n",
        "local_path = \"./datasets/\" + dataset\n",
        "\n",
        "!rm -rf ./datasets/*\n",
        "!cp -a '{dataset_path}' ./datasets/"
      ],
      "execution_count": null,
      "outputs": []
    },
    {
      "cell_type": "markdown",
      "metadata": {
        "id": "HfJQouvHUG7l"
      },
      "source": [
        "# Start training"
      ]
    },
    {
      "cell_type": "code",
      "metadata": {
        "id": "5wxH0bf-7yWd"
      },
      "source": [
        "!python train.py --label_nc 0 --save_latest_freq 4000 --save_epoch_freq 25 --name {dataset} --no_instance --dataroot {local_path} --resize_or_crop none --checkpoints_dir {output_dir}"
      ],
      "execution_count": null,
      "outputs": []
    },
    {
      "cell_type": "markdown",
      "metadata": {
        "id": "AS4SKvnfUJz9"
      },
      "source": [
        "# Continue training\r\n",
        "\r\n",
        "If you have a previous checkpoint."
      ]
    },
    {
      "cell_type": "code",
      "metadata": {
        "id": "u9X6V2Gi7zDU"
      },
      "source": [
        "!python train.py --label_nc 0 --continue_train --save_latest_freq 4000 --save_epoch_freq 25 --name {dataset} --no_instance --dataroot {local_path} --resize_or_crop none --checkpoints_dir {output_dir}"
      ],
      "execution_count": null,
      "outputs": []
    },
    {
      "cell_type": "markdown",
      "metadata": {
        "id": "uJaSt9YQUNyA"
      },
      "source": [
        "# Test network\r\n",
        "\r\n",
        "The model will translate the images in `/content/pix2pixHD/datasets/your_dataset/test_A`."
      ]
    },
    {
      "cell_type": "code",
      "metadata": {
        "id": "w3THkQs5OzXo"
      },
      "source": [
        "!python test.py --label_nc 0 --name {dataset} --how_many 1000 --no_instance --dataroot {local_path} --resize_or_crop none --checkpoints_dir {output_dir}"
      ],
      "execution_count": null,
      "outputs": []
    }
  ]
}